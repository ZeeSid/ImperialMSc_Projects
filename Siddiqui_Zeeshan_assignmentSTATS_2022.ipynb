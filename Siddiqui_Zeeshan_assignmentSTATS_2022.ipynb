{
 "cells": [
  {
   "cell_type": "markdown",
   "metadata": {},
   "source": [
    "**[Do not edit the contents of this cell]**\n",
    "\n",
    "# MSc in Bioinformatics and Theoretical Systems Biology - Stats Assignment 2021/22\n",
    "\n",
    "This assignment is to be completed in R and returned as a clean Jupyter notebook cleared of its output. This is important otherwise Turnitin will reject the submission.\n",
    "\n",
    "The answers require text and/or code and each one is assigned an individual cell with the message \"*(Write your text here)*\" or \"*(Write your code here)*\". **You only need to write on those cells**. \n",
    "\n",
    "\n",
    "<span style='color:Blue'> Code answers  </span>: Each part of each problem requires you to write  code that returns the output prompted when running the cell.\n",
    "\n",
    "<span style='color:Blue'> Text answers  </span>: When required by the problem, you need to write enough text interpreting the output of the code. \n",
    "\n",
    "There are three problems to be tackled:\n",
    "1. Plotting data and basic hypothesis testing [40%]\n",
    "2. Multiple regression [40%]\n",
    "3. Hierarchical modelling [20%]\n",
    "\n",
    "If you ecounter technical problems, do not hesitate to contact `will.pearse@imperial.ac.uk`"
   ]
  },
  {
   "cell_type": "markdown",
   "metadata": {
    "tags": []
   },
   "source": [
    "\n",
    "- The kernel for this Jupyter notebook is R, version 4.1.0, with the following packages: MuMIn, rstanarm"
   ]
  },
  {
   "cell_type": "code",
   "execution_count": null,
   "metadata": {},
   "outputs": [],
   "source": [
    "# You can use the following libraries for your answers\n",
    "\n",
    "\n",
    "install.packages(\"rstanarm\")\n",
    "install.packages(\"MuMIn\")\n",
    "\n",
    "\n",
    "library(MuMIn)\n",
    "library(rstanarm)\n"
   ]
  },
  {
   "cell_type": "markdown",
   "metadata": {
    "tags": []
   },
   "source": [
    "## Problem 1: Plotting data\n",
    "\n",
    "You are given a dataset of ten years of Bioinformatics MSc students at Imperial College London and their end-of-year marks. Various data about the students have been collected, including: age (years), height (metres), eye colour (categorical), grey-cell brain density index (a unitless index of brain structure), the year of their graduation, their enthusiasm for the Bioinformatics course (measured in 'joys'), and their final degree percentage. All ethical approval required for imaginary data have been obtained. The data is provided in the file `q1-2021.csv`.\n",
    "\n",
    "### Part 1\n",
    "\n",
    "Load the dataset `q1-2021.csv`.\n",
    "How many students were surveyed? How many different eye-colours have been recorded?"
   ]
  },
  {
   "cell_type": "markdown",
   "metadata": {},
   "source": [
    "<span style='color:Blue'> Code Answer  </span>"
   ]
  },
  {
   "cell_type": "code",
   "execution_count": null,
   "metadata": {
    "tags": []
   },
   "outputs": [],
   "source": [
    "q1 <- read.csv(\"q1-2021.csv\", as.is=TRUE)\n",
    "unique(q1$eyecolour)\n"
   ]
  },
  {
   "cell_type": "markdown",
   "metadata": {},
   "source": [
    "<span style='color:Blue'> Text Answer  </span>"
   ]
  },
  {
   "cell_type": "markdown",
   "metadata": {},
   "source": [
    "12 students were surveyed.\n",
    "\n",
    "There are three different eye colurs: \"brown\", \"green\"and \"blue\".\n"
   ]
  },
  {
   "cell_type": "markdown",
   "metadata": {},
   "source": [
    "### Part 2\n",
    "\n",
    "Produce a plot to show the relationship between (1) degree mark and age and (2) degree mark and year of graduation. Do not simply use the default plotting options; alter the appearance of each plot in some way from the default (e.g., add a title, change the plotting symbol or colour)."
   ]
  },
  {
   "cell_type": "markdown",
   "metadata": {},
   "source": [
    "<span style='color:Blue'> Code Answer  </span>"
   ]
  },
  {
   "cell_type": "code",
   "execution_count": null,
   "metadata": {},
   "outputs": [],
   "source": [
    "\n",
    "#1\n",
    "with(q1, plot(mark~age, col ='coral', pch=8, main=\"Relationship between mark and age\"))\n",
    "\n",
    "#2\n",
    "with(q1, boxplot(mark~cohort, col ='coral', pch=8, main=\"Relationship between mark and year of graduation\"))\n"
   ]
  },
  {
   "cell_type": "markdown",
   "metadata": {},
   "source": [
    "---"
   ]
  },
  {
   "cell_type": "markdown",
   "metadata": {},
   "source": [
    "### Part 3\n",
    "\n",
    "Standardise the grey-cell index by age, dividing the index by age. Plot the relationship between mark and this standardised index and report whether there is a statistically significant relationship between the two indices. Report what in your code gives support for your answer."
   ]
  },
  {
   "cell_type": "markdown",
   "metadata": {
    "tags": []
   },
   "source": [
    "<span style='color:Blue'> Code Answer  </span>"
   ]
  },
  {
   "cell_type": "code",
   "execution_count": null,
   "metadata": {
    "tags": []
   },
   "outputs": [],
   "source": [
    "#Standardise grey cell index by age in order to scale it\n",
    "q1_stndrd = q1$grey.density / q1$age\n",
    "\n",
    "#plot\n",
    "with(q1, plot(mark~q1_stndrd, col ='coral', pch=8, main=\"Relationship between mark and standardised index\"))\n",
    "\n",
    "# Test for statistical significance to support answer.\n",
    "q_stat = with(q1, lm(mark~q1_stndrd))\n",
    "summary(q_stat)\n",
    "\n"
   ]
  },
  {
   "cell_type": "markdown",
   "metadata": {
    "tags": []
   },
   "source": [
    "<span style='color:Blue'> Text Answer  </span>"
   ]
  },
  {
   "cell_type": "markdown",
   "metadata": {
    "tags": []
   },
   "source": [
    "\n",
    "Observing the output of 'summary(q_stat)':\n",
    "\n",
    "p-value = 0.555. This is not statistically significant. \n",
    "F-stat = 0.3497 on 1 and 198 DF. This is a low F-stat value. \n",
    "\n",
    "Therefore, there is no statistically significiant relationship between 'mark and the standardised index. \n",
    "\n"
   ]
  },
  {
   "cell_type": "markdown",
   "metadata": {},
   "source": [
    "### Part 4\n",
    "\n",
    "Plot the relationship between mark and enthusiasm for the course, and report whether there is a statistically significant relationship between the two. Make sure to add a trend-line to your figure. Report what in your code gives support for your answer."
   ]
  },
  {
   "cell_type": "markdown",
   "metadata": {
    "tags": []
   },
   "source": [
    "<span style='color:Blue'> Code Answer  </span>"
   ]
  },
  {
   "cell_type": "code",
   "execution_count": null,
   "metadata": {
    "tags": []
   },
   "outputs": [],
   "source": [
    "#plot\n",
    "with(q1, plot(mark ~ enthusiasm, col ='coral', pch=8, main=\"Relationship between mark and course enthusiasm\"))\n",
    "\n",
    "#Find statistical significance \n",
    "q_stat2 = with(q1, lm(mark~enthusiasm))\n",
    "summary(q_stat2) #allows to test for statistical significance.\n",
    "\n",
    "#adds trendline.\n",
    "abline(lm(q1$mark ~ q1$enthusiasm), col = 'blue') \n"
   ]
  },
  {
   "cell_type": "markdown",
   "metadata": {
    "tags": []
   },
   "source": [
    "<span style='color:Blue'> Text Answer  </span>"
   ]
  },
  {
   "cell_type": "markdown",
   "metadata": {
    "tags": []
   },
   "source": [
    "observing the 'summary(q_stat2)' output:\n",
    "\n",
    "p-value for the intercept and enthusiasm are both statistically significant, p value <2e-16\n",
    "F-statistic is 98.47 on 1 and 198 DF. Relativley high F-stat value. \n",
    "\n",
    "\n",
    "Furthermore, the 'abline(lm(q1$mark ~ q1$enthusiasm), col = 'blue')' code shows a linear trendline on the plot. \n",
    "\n",
    "All the above suggests that there is a statistically significant relationship  between mark and enthusiasm. \n",
    " "
   ]
  },
  {
   "cell_type": "markdown",
   "metadata": {
    "tags": []
   },
   "source": [
    "## Problem 2: Multiple regression\n",
    "\n",
    "You have been given a dataset on the effective reproduction number ('Rt') of SARS-CoV-2 early in the pandemic across regions of the US in June 2020. This number can go as low as 0 in regions where there is essentially no transmission, and numbers greater than 1 indicate a growing population of SARS-CoV-2. The regions (their names and locations are unimportant) have associated data: temperature (in degrees Centigrade), humidity (percentage saturation of the air with water), population density (mean number of people per square kilometer), and non-pharmaceutical intervention strength (a dimensionless, normalised index of lockdown strength and mask compliance). While these data are simulated, they are based on a real-world exercise that researchers at Imperial carried out early in the pandemic (see Smith et al. 2021 PNAS 118 (25) e2019284118).\n",
    "\n",
    "### Part 1\n",
    "\n",
    "Load the data into R from the file `q2-2021.csv`. Fit an additive model with Rt as the response variable and all other variables as explanatory variables. Summarise briefly what this model shows."
   ]
  },
  {
   "cell_type": "markdown",
   "metadata": {
    "tags": []
   },
   "source": [
    "<span style='color:Blue'> Code Answer  </span>"
   ]
  },
  {
   "cell_type": "code",
   "execution_count": null,
   "metadata": {
    "tags": []
   },
   "outputs": [],
   "source": [
    "q2 <- read.csv(\"q2-2021.csv\", as.is=TRUE)\n",
    "q2_additive.model1<- lm(q2$Rt ~ q2$temp + q2$humid + q2$pop.dens + q2$exposure)\n",
    "summary(q2_additive.model1)"
   ]
  },
  {
   "cell_type": "markdown",
   "metadata": {
    "tags": []
   },
   "source": [
    "<span style='color:Blue'> Text Answer  </span>"
   ]
  },
  {
   "cell_type": "markdown",
   "metadata": {
    "tags": []
   },
   "source": [
    "\n",
    "Multiple regression analysis:\n",
    "Rt -> Single, continuoue response variable.\n",
    "Temp, humid, pop.dens and exposure (non-pharma intervention) -> Explanatory variables. \n",
    "\n",
    "An additive model is a nonparametric regression method where, in this question, the effects of Temp, humid, pop.dens and exposure are independent of each other.\n",
    "\n",
    "Output of 'summary(q2_additive.model1)':\n",
    "\n",
    "Coefficients:\n",
    "\n",
    "Estimate Std. Error t value Pr(>|t|)    \n",
    "(Intercept)  3.223e+00  5.413e-01   5.954 4.97e-09 ***\n",
    "q2$temp     -9.490e-02  2.688e-02  -3.531 0.000453 ***\n",
    "q2$humid     1.162e-02  9.190e-04  12.642  < 2e-16 ***\n",
    "q2$pop.dens  8.818e-06  1.244e-06   7.090 4.66e-12 ***\n",
    "q2$exposure -8.439e-01  2.675e-02 -31.545  < 2e-16 ***\n",
    "\n",
    "F-stat:\n",
    "312.3 on 4 and 495 df.\n",
    "\n",
    "\n",
    "F-stat =(Amount of variance explained by our model/Amount of variance not explained by our model) * correction factor.\n",
    "312.3 is a relatively large F-stat. Which means that the ratio of variance explained by our model and not explained b our model is high. \n",
    "\n",
    "The '4 and 495' degrees of freedom indicates that we have four extra slope parameters on top of the intercept (Rt). As there are 500 data points, 500 - (4+1) = 495. \n",
    "\n",
    "The intercept is estimated to be 3.223e+00.\n",
    "\n",
    "\n",
    "temp and exposure variables both have negative slopes (model coefficients) hence have a negative effect on Rt. While humidity and pop.dens both have a positive slope and hence have a positive effect on Rt.\n"
   ]
  },
  {
   "cell_type": "markdown",
   "metadata": {},
   "source": [
    "### Part 2\n",
    "\n",
    "There are good reasons from theory to suppose that the impact of population density and non-pharmaceutical interventions are non-linear. Apply a log10 transformation to the population density data and a logistic transformation (function definition given below so that it can be used analogously to the `log10` function in R) to your variables and use ANOVA to test for an improvement in model fit after these transformations. Note that, because there will be no difference in the number of parameters in your model, you will not be able to generate a probability (p-value) for this test. Thus you will need to interpret the F-statistic itself and use your statistical judgement. Briefly provide your reasoning in your answer.\n",
    "\n",
    "`logistic <- function(x) 1/(1+exp(-x))`"
   ]
  },
  {
   "cell_type": "markdown",
   "metadata": {
    "tags": []
   },
   "source": [
    "<span style='color:Blue'> Code Answer  </span>"
   ]
  },
  {
   "cell_type": "code",
   "execution_count": null,
   "metadata": {
    "tags": []
   },
   "outputs": [],
   "source": [
    "\n",
    "#scale\n",
    "q2_log_popd = log10(q2$pop.dens)\n",
    "logistic <- function(x) 1/(1+exp(-x))\n",
    "q2_log_exposure = logistic(q2$exposure)\n",
    "\n",
    "#Apply transformed variable:\n",
    "q2_add_model2 = lm(q2$Rt ~ q2$temp + q2$humid + q2_log_popd + q2_log_exposure)\n",
    "summary(q2_add_model2)\n",
    "\n",
    "#compare using anova\n",
    "anova(q2_additive.model1, q2_add_moodel2)\n",
    "\n"
   ]
  },
  {
   "cell_type": "markdown",
   "metadata": {
    "tags": []
   },
   "source": [
    "<span style='color:Blue'> Text Answer  </span>"
   ]
  },
  {
   "cell_type": "markdown",
   "metadata": {
    "tags": []
   },
   "source": [
    "The F-stat for the first model (q2_additive.model1) =  312.3 on 4 and 495 DF.\n",
    "The F-stat for the second model (q2_add_model2) = 407.6 on 4 and 495 df.\n",
    "\n",
    "\n",
    "The F-stat for the second model is higher than the first model. This indicates that there is a greater amount of variance explained by the model in the second model than the first model. This means that the variation among group means is more than you would expect to see by chance in the second model, when compared to the first. \n",
    "\n",
    "When performing the anova: anova(q2_additive.model, q2_add_moodel2)\n",
    "The RSS (Residual Sum of Squares) for the first model (171.37), is larger than the second model(140.65). A lower RSS indicates that ther is less less unexplained variation. Hence, the second model better fits this dataset.\n",
    "Therfore, the suggested theory (impact of population density and non-pharmaceutical interventions are non-linear) is likely to be correct. That is, supported by statistical evidence in the form of the F-statistic and RSS. \n",
    "\n",
    "\n",
    "\n",
    "\n"
   ]
  },
  {
   "cell_type": "markdown",
   "metadata": {},
   "source": [
    "\n",
    "### Part 3\n",
    "\n",
    "Identify the most important drivers of transmission (Rt) in this dataset and quantify their relative importances."
   ]
  },
  {
   "cell_type": "markdown",
   "metadata": {
    "tags": []
   },
   "source": [
    "<span style='color:Blue'> Code Answer  </span>"
   ]
  },
  {
   "cell_type": "code",
   "execution_count": null,
   "metadata": {
    "tags": []
   },
   "outputs": [],
   "source": [
    "\n",
    "library(MuMIn)\n",
    "s.temp <- as.numeric(scale(q2$temp))\n",
    "s.humid <- as.numeric(scale(q2$humid))\n",
    "s.q2_log_popd <- as.numeric(scale(q2_log_popd))\n",
    "s.q2_log_exposure <- as.numeric(scale(logistic(q2_log_exposure)))\n",
    "\n",
    "s.model.transform <- lm(q2$Rt ~ s.temp + s.humid + s.q2_log_popd + s.q2_log_exposure, na.action=na.pass)\n",
    "s.models <- dredge(s.model.transform)\n",
    "\n",
    "summary(model.avg(s.models, fit = TRUE))"
   ]
  },
  {
   "cell_type": "markdown",
   "metadata": {
    "tags": []
   },
   "source": [
    "<span style='color:Blue'> Text Answer  </span>"
   ]
  },
  {
   "cell_type": "markdown",
   "metadata": {
    "tags": []
   },
   "source": [
    "Intercept = Rt. \n",
    "\n",
    "Looking at the 'summary(model.avg(s.models, fit = TRUE))' output:\n",
    "\n",
    "'Model-averaged coefficients'(average coeficient weighted by the AIC weight).\n",
    "Scaling applied to ensure all variables have a mean = 0, and a standard deviation = 1. \n",
    "\n",
    "\n",
    "The most important driver of transmission (Rt) is the Log_exposure variable. This variable is almost 2.6 times more important than humidit, almost 3 times more important than population density and almost 9.6 times more important than temperature.\n"
   ]
  },
  {
   "cell_type": "markdown",
   "metadata": {},
   "source": [
    "### Part 4\n",
    "\n",
    "There are strong theoretical grounds to suppose that the impact of non-pharameutical interventions mediate the impact of all other variables in this analysis. Statistically test for evidence that non-pharmaceutical interventions interact with all other variables in this analysis."
   ]
  },
  {
   "cell_type": "markdown",
   "metadata": {
    "tags": []
   },
   "source": [
    "<span style='color:Blue'> Code Answer  </span>"
   ]
  },
  {
   "cell_type": "code",
   "execution_count": null,
   "metadata": {
    "tags": []
   },
   "outputs": [],
   "source": [
    "interaction.model <- lm(q2$Rt ~ q2_log_exposure*(temp + humid + q2_log_popd))\n",
    "summary(interaction.model)\n",
    "\n",
    "anova(interaction.model, q2_add_model2)\n"
   ]
  },
  {
   "cell_type": "markdown",
   "metadata": {
    "tags": []
   },
   "source": [
    "<span style='color:Blue'> Text Answer  </span>"
   ]
  },
  {
   "cell_type": "markdown",
   "metadata": {
    "tags": []
   },
   "source": [
    "Analysing the output of 'summary(s.interaction.model)':\n",
    "\n",
    "The s.temp's p-value is not significant. However, the s.humid and s.q2_log_popd  p-value is significant. This suggest that non-pharmaceutical interventions do not interact with temperature.\n",
    "\n",
    "FSTAT: \n",
    "277.5 on 7 and 492 DF. Relatively high. However, this F-stat is lower than the F-stat for q2_add_model, as well as \n",
    "q2_additive.model1.    \n",
    "\n",
    "Anova:\n",
    "RSS of interaction model is lower (122.05) when compared to 140.65 of the scaled model. \n",
    "\n",
    "Overal, non-pharmaceutical interventions do not interact with all other variables in this analysis.\n",
    "\n",
    "\n",
    "\n"
   ]
  },
  {
   "cell_type": "markdown",
   "metadata": {},
   "source": [
    "## Problem 3: Hierarchical modelling\n",
    "\n",
    "You are given a dataset (`q3-2021.csv`) on scream intensity (decibels) and statistics exam performance (%), generated by a well-known statistical consultancy company (https://xkcd.com/2533/). Fit an appropriate model to these data to test whether scream intensity is associated with exam performance. Make sure to clearly explain why you chose your particular statistical formulation, and to reference whether you find, or do not find, support for the hypothesis with reference to your data."
   ]
  },
  {
   "cell_type": "markdown",
   "metadata": {
    "tags": []
   },
   "source": [
    "<span style='color:Blue'> Code Answer  </span>"
   ]
  },
  {
   "cell_type": "code",
   "execution_count": null,
   "metadata": {
    "tags": []
   },
   "outputs": [],
   "source": [
    "q3 <- read.csv(\"q3-2021.csv\", as.is=TRUE)\n",
    "\n",
    "library(rstanarm)\n",
    "\n",
    "q3_model = with(q3, stan_glmer(grade ~ scream + (1|student)))\n",
    "\n",
    "summary(q3_model, probs=c(.025, .5, .975))\n",
    "\n",
    "plot(q3_model)\n",
    "plot(q3_model, \"trace\")\n",
    "\n"
   ]
  },
  {
   "cell_type": "markdown",
   "metadata": {
    "tags": []
   },
   "source": [
    "<span style='color:Blue'> Text Answer  </span>"
   ]
  },
  {
   "attachments": {},
   "cell_type": "markdown",
   "metadata": {
    "tags": []
   },
   "source": [
    "\n",
    "student -> categorical hierarchical effect. \n",
    "\n",
    "Overal intercept = 54.2 \n",
    "\n",
    "variable estimates are a contrast of the difference between the overall intercept and the variable in question. Mean values are equal to:\n",
    "scream = 54.6, and there is a 95% probability that the slope of scream lies between -0.5 and 1.4.\n",
    "b[(Intercept) student:a] = 44.5, and there is a 95% probability that the slope of scream lies between -17 & -3.2.\n",
    "b[(Intercept) student:b] = 63.1, and there is a 95% probability that the slope of scream lies between 2.4 & 14.8.\n",
    "b[(Intercept) student:c] = 55.3, and there is a 95% probability that the slope of scream lies between 3.5 & 7.6.\n",
    "sigma (parameter in this case) = 55, and there is a 95% probability that the slope of scream lies between 0.3 & 1.6\n",
    "Sigma[student:(Intercept),(Intercept)] (variance form) = 81.2. and there is a 95% probability that the slope of scream lies between 9.6 and 74.9.\n",
    "\n",
    "\n",
    "\n",
    "\n",
    "Looking at the MCMC data.\n",
    "n_eff (effective sample size): Lowest value is 888, which is perfecty fine, no concern at all as above 300 is considered fine. \n",
    "All Rhat values are 1.0. Which is good.\n",
    "\n",
    "\n",
    "Observing the Caterpillar plot:\n",
    "'b[(Intercept) student:c]' overlaps with zero. Hence, no significantly different from the overall intercept. \n",
    "\n",
    "\n",
    "Looking at the hairy caterpillar plot:\n",
    "Shows good posterior distribution, has an obvious and average mean. \n",
    "\n",
    "In addition:\n",
    "\n",
    "\n",
    "\n",
    "Given the above, it is likely that the hypothesis of scream intensity being associated with exam performance is true. \n",
    "\n",
    " \n",
    "\n",
    "\n",
    "\n"
   ]
  },
  {
   "cell_type": "code",
   "execution_count": null,
   "metadata": {},
   "outputs": [],
   "source": []
  }
 ],
 "metadata": {
  "kernelspec": {
   "display_name": "R",
   "language": "R",
   "name": "ir"
  },
  "language_info": {
   "codemirror_mode": "r",
   "file_extension": ".r",
   "mimetype": "text/x-r-source",
   "name": "R",
   "pygments_lexer": "r",
   "version": "3.6.1"
  }
 },
 "nbformat": 4,
 "nbformat_minor": 4
}
