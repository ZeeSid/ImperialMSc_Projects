{
 "cells": [
  {
   "cell_type": "markdown",
   "metadata": {},
   "source": [
    "**[Do not edit the contents of this cell]**\n",
    "\n",
    "# MSc in Bioinformatics and Theoretical Systems Biology - Mathematics Assignment 2021/22\n",
    "\n",
    "This assignment is to be completed in Python 3 and returned as a clean Jupyter notebook cleared of its output. This is important otherwise Turnitin will reject the submission.\n",
    "\n",
    "The answers require text and/or code and each one is assigned an individual cell with the message \"*(Write your text here)*\" or \"*(Write your code here)*\". **You only need to write on those cells**. \n",
    "\n",
    "<span style='color:Blue'> Text answers  </span>: You need to write enough text to make clear the steps you followed to reach the answer. When there are mathematical derivations involved, it is recommended to use LaTeX syntax by enclosing the expression with dollar symbols e.g. `$ x^2 = \\sqrt{a} $`  becomes $x^2 = \\sqrt{a}$. Even if you are not familiar with it, I encourage you to give it a try, there are plenty of tutorials, such as [this one](https://www.youtube.com/watch?v=Jp0lPj2-DQA&ab_channel=Dr.TreforBazett).\n",
    "\n",
    "<span style='color:Blue'> Code answers  </span>: You need to write a small piece of code that returns the output required when running the cell. This can be a numerical or a graphical output depending on the exercise, and should be clear to interpret. For instance, if the problem asks for the value of a variable $x$, the code should contain a line `print('the value of x is', x)`. On the other hand, if the output is a plot, it should have clear axes labels and legends.\n",
    "\n",
    "If you ecounter technical problems, do not hesitate to contact me `r.perez-carrasco@imperial.ac.uk`"
   ]
  },
  {
   "cell_type": "code",
   "execution_count": null,
   "metadata": {},
   "outputs": [],
   "source": [
    "# You can use the following libraries for your answers\n",
    "import matplotlib.pyplot as plt\n",
    "import seaborn as sns\n",
    "import numpy as np\n",
    "import scipy as sp\n"
   ]
  },
  {
   "cell_type": "markdown",
   "metadata": {},
   "source": [
    "# Q1. Transcendental equations\n",
    "\n",
    "The following equation does not have an analytical solution\n",
    "$$ \\sin^2(x) = 1-x$$\n",
    "We can find approximations to the solution ($x^*$) using different approaches:\n",
    "\n",
    "**a)** Plot the functions $f(x) = \\sin^2(x)$ and $g(x) = 1-x$, and give an approximation by analyzing the plot. "
   ]
  },
  {
   "cell_type": "markdown",
   "metadata": {},
   "source": [
    "<span style='color:Blue'> Code Answer  </span>"
   ]
  },
  {
   "cell_type": "code",
   "execution_count": null,
   "metadata": {},
   "outputs": [],
   "source": [
    "#Functions\n",
    "x = np.arange(0,1.5,0.1) #start, stop, step size\n",
    "y = np.sin(x)**2\n",
    "z = 1-x\n",
    "\n",
    "#plot\n",
    "plt.plot(x, y, color='b', label='f(x) = sin^2(x)')\n",
    "plt.plot(x, z, color='r', label='g(x) = 1-x')\n",
    "plt.legend(loc='upper left')\n",
    "plt.plot(x,y)\n",
    "plt.show()\n",
    "      "
   ]
  },
  {
   "cell_type": "markdown",
   "metadata": {},
   "source": [
    "<span style='color:Blue'> Text answer.  </span>\n",
    "\n",
    "\n",
    "Approximation by analysing the plot (naked eye) = x $\\approx$ 0.65\n",
    "\n",
    "\n",
    "---"
   ]
  },
  {
   "cell_type": "markdown",
   "metadata": {},
   "source": [
    "**b)** Find a linear approximation (Taylor expansion up to 1st order) of $f(x)$ around the point $x_0=\\pi/4$ and use the result to approximate $x^*$. Hint: $\\sin(\\pi/4)=\\cos(\\pi/4)=\\sqrt{2}/2$"
   ]
  },
  {
   "cell_type": "markdown",
   "metadata": {},
   "source": [
    "<span style='color:Blue'> Text answer  </span>\n",
    "\n",
    "$ f(x) = sin^2(x) $\n",
    "\n",
    "1st order Taylor expansion at point a: \n",
    "\n",
    "$ f(a) +  \\frac{f'(a)}{1!} \\cdot (x-a) $\n",
    "\n",
    "\n",
    "Implementing product rule:\n",
    "\n",
    "$ f'(x) = sin(x)cos(x) + cos(x)sin(x) = 2sin(x)cos(x) $\n",
    "\n",
    "1st order Taylor expansion at point $\\frac{\\pi}{4}$\n",
    "\n",
    "$ = sin^2(x) \\cdot \\frac{\\pi}{4} +  \\frac{2sin\\frac{\\pi}{4} \\cdot cos\\frac{\\pi}{4}}{1!} \\cdot (x- \\frac{\\pi}{4} ) $\n",
    "\n",
    "$ = (\\frac{\\sqrt{2}}{2})^2 + (2 \\cdot \\frac{\\sqrt{2}}{2}) \\cdot \\frac{\\sqrt{2}}{2} \\cdot (x- \\frac{\\pi}{4} ) $\n",
    "\n",
    "$ = \\frac{1}{2} + (2 \\cdot \\frac{1}{2}) \\cdot (x- \\frac{\\pi}{4} ) $\n",
    "\n",
    "$ = \\frac{1}{2} + (x- \\frac{\\pi}{4} ) $\n",
    "\n",
    "\n",
    "$ f(x) \\approx  \\frac{1}{2} + (x- \\frac{\\pi}{4} ) $\n",
    "\n",
    "Approximating f(x) = g(x) with 1st order Taylor expansion:\n",
    "\n",
    "$ f(x) = g(x) \\implies \\frac{1}{2} + (x- \\frac{\\pi}{4} ) = 1 - x \\implies x^* \\approx 0.64 $\n",
    "\n",
    "\n",
    "\n",
    "\n",
    "\n",
    "\n",
    "\n",
    "\n",
    "\n",
    "\n",
    "---"
   ]
  },
  {
   "cell_type": "markdown",
   "metadata": {},
   "source": [
    "**c)** Use the root finding routine [brentq](https://docs.scipy.org/doc/scipy/reference/generated/scipy.optimize.brentq.html#scipy.optimize.brentq) to obtain an accurate numerical approximation. This algorithm finds numerical solutions to equations in the form $F(x)=0$. In order to use it in our problem, define the function $F(x) = f(x)-g(x)$. Hint: You will need to provide an interval $[a,b]$ that contains the solution $x^*$, use the plots from a) to choose the interval "
   ]
  },
  {
   "cell_type": "markdown",
   "metadata": {},
   "source": [
    "<span style='color:Blue'> Code Answer  </span>\n"
   ]
  },
  {
   "cell_type": "code",
   "execution_count": null,
   "metadata": {},
   "outputs": [],
   "source": [
    "def f(x):\n",
    "    return np.sin(x)**2 + x-1\n",
    "print(sp.optimize.brentq(f,-1,1))\n"
   ]
  },
  {
   "cell_type": "markdown",
   "metadata": {},
   "source": [
    "---"
   ]
  },
  {
   "cell_type": "markdown",
   "metadata": {},
   "source": [
    "**d)** Compare and discuss the solutions found using the three different methods"
   ]
  },
  {
   "cell_type": "markdown",
   "metadata": {},
   "source": [
    "<span style='color:Blue'> Text Answer  </span>\n",
    "\n",
    "\n",
    "All three solutions are very similar. The method of observing the plot with the naked eye is prone to human error. \n",
    "Taylor expansion will give a more accurate solution than the nake eye but is prone to errors as well (Lagrange error bound).\n",
    "The brentq method is likely to be the most accurate as it is optimised to find an accurate numerical approximation. \n"
   ]
  },
  {
   "cell_type": "markdown",
   "metadata": {},
   "source": [
    "# Q2. Systems of equations"
   ]
  },
  {
   "cell_type": "markdown",
   "metadata": {},
   "source": [
    "We want to find the solution of the following system of equations\n",
    "$$\\left.\\begin{array}{rcl} y\\ln(x) &=& 3 \\\\ (y+2)\\ln(x) &=& a \\end{array}\\right\\}$$\n",
    "where $a$ is a constant"
   ]
  },
  {
   "cell_type": "markdown",
   "metadata": {},
   "source": [
    "**a)** Find the analytical solution $(x,y)$ as a function of $a$"
   ]
  },
  {
   "cell_type": "markdown",
   "metadata": {},
   "source": [
    "<span style='color:Blue'> Text answer  </span>\n",
    "\n",
    "Taking $ (y+2)(ln(x) = a $\n",
    "\n",
    "$ \\rightarrow  yln(x) + 2ln(x) = a $\n",
    "\n",
    "$ \\rightarrow ln(x)(y+2) = a $\n",
    "\n",
    "Equation 2 -> $ y = \\frac{a-2ln(x)}{ln(x)} $\n",
    "\n",
    "Substituting equation 2 into equation 1  $ (yln(x) = 3) $\n",
    "\n",
    "$ \\rightarrow y = \\frac{a-2ln(x)}{ln(x)} \\cdot ln(x) $\n",
    "\n",
    "$ \\rightarrow a = 3 + 2ln(x) $\n",
    "\n",
    "Rearranging the above equation to make 'x' the subject:\n",
    "\n",
    "$ a = 3 + 2ln(x) $\n",
    "\n",
    "$ \\rightarrow 2ln(x) = a-3 $\n",
    "\n",
    "$ \\rightarrow ln(x) = \\frac{a-3}{3} $\n",
    "\n",
    "$ \\rightarrow  x =  e^\\frac{(a-3)}{2} $\n",
    "\n",
    "Now to find 'y' by susbsituting the value of ln(x) calculated above into the equation yln(x) = 3\n",
    "\n",
    "$ \\rightarrow yln(x) = 3 $\n",
    "\n",
    "$ \\rightarrow y(\\frac{a-3}{2}) = 3 $\n",
    "\n",
    "$ \\rightarrow y(a-3)=6 $\n",
    "\n",
    "$ y = \\frac{6}{a-3} $\n",
    "\n",
    "\n",
    "\n",
    "\n",
    "\n",
    "\n",
    "\n",
    "\n",
    "\n"
   ]
  },
  {
   "cell_type": "markdown",
   "metadata": {},
   "source": [
    "**b)** For which values of $a$ the system does not have any solution"
   ]
  },
  {
   "cell_type": "markdown",
   "metadata": {},
   "source": [
    "<span style='color:Blue'> Text answer  </span>\n",
    "\n",
    "As $ y = \\frac{6}{a-3} $\n",
    "\n",
    "For a = 3, $ y = \\frac{6}{0} $\n",
    "\n",
    "Therefore, for a = 3. The system does not have any solution.\n",
    "\n",
    "'a' also has no solution for a ->  $-\\infty$\n",
    "\n",
    "---"
   ]
  },
  {
   "cell_type": "markdown",
   "metadata": {},
   "source": [
    "**c)** Plot the curves $y(x)$ described by each equation of the system for the values of $a$ found in b). Discuss the result. "
   ]
  },
  {
   "cell_type": "markdown",
   "metadata": {},
   "source": [
    "<span style='color:Blue'> Code answer  </span>"
   ]
  },
  {
   "cell_type": "code",
   "execution_count": null,
   "metadata": {},
   "outputs": [],
   "source": [
    "import matplotlib.pyplot as plt\n",
    "import seaborn as sns\n",
    "import numpy as np\n",
    "\n",
    "x = np.arange(0,10,0.25)\n",
    "y = 3/np.log(x)\n",
    "\n",
    "plt.plot(x, y, color='b', label='y1 = 3/ln(x)')\n",
    "plt.legend(loc='upper left')\n",
    "plt.plot(x,y)\n",
    "\n",
    "y = -2 + 3/np.log(x)\n",
    "plt.plot(x, y, color='r', label='y2 = -2 + 3/(ln(x))')\n",
    "plt.legend(loc='upper right')\n",
    "plt.plot(x,y)"
   ]
  },
  {
   "cell_type": "markdown",
   "metadata": {},
   "source": [
    "<span style='color:Blue'> Text answer  </span>\n",
    "\n",
    "By observing the above figure, it can be seen that the two plots do not overlap. This indicates that there is no solution when $ a = 3 $. However, the two lines would overlap/cross at the coordinates that represent the solutions of the system."
   ]
  },
  {
   "cell_type": "markdown",
   "metadata": {},
   "source": [
    "---"
   ]
  },
  {
   "cell_type": "markdown",
   "metadata": {},
   "source": [
    "# Q3. Differential Equations"
   ]
  },
  {
   "cell_type": "markdown",
   "metadata": {},
   "source": [
    "The expression levels of a gene ($p$) increases in time ($t\\geq 0$) following the differential equation:\n",
    "$$t^2\\frac{\\mathrm d p}{\\mathrm d t} = p$$\n",
    "**a)** Knowing that the expression saturates at a level $p=1$, find the an analytical expression for $p(t)$ \n"
   ]
  },
  {
   "cell_type": "markdown",
   "metadata": {},
   "source": [
    "<span style='color:Blue'> Text answer  </span>\n",
    "\n",
    "$ \\frac{1}{p}dp = \\frac{1}{t^2}dt $\n",
    "\n",
    "$ \\int \\frac{1}{p}dp = \\int \\frac{1}{t^2}dt $\n",
    "\n",
    "= $ ln(p) = \\frac{-1}{t} + c $\n",
    "\n",
    "Therefore, $ p(t) = e^{\\frac{-1}{t} + c}  $\n",
    "\n",
    "\n",
    "\n",
    "\n"
   ]
  },
  {
   "cell_type": "markdown",
   "metadata": {},
   "source": [
    "**b)** Using the analytical expression of $p(t)$ and its derivative, plot as a function of time $t^2$, $\\frac{\\mathrm d p}{\\mathrm d t}$, $p$, and $t^2\\frac{\\mathrm d p}{\\mathrm d t}$. Are the results consistent with the differential equation?"
   ]
  },
  {
   "cell_type": "markdown",
   "metadata": {},
   "source": [
    "<span style='color:Blue'> Code answer  </span>\n"
   ]
  },
  {
   "cell_type": "code",
   "execution_count": null,
   "metadata": {},
   "outputs": [],
   "source": [
    "t = np.arange(0,2,0.1)\n",
    "\n",
    "#equation to plot\n",
    "y = t**2\n",
    "\n",
    "#plot function and label\n",
    "plt.plot(t, y, color='r', label='y = $t^2$')\n",
    "\n",
    "#add legend\n",
    "plt.legend(loc='upper left')\n",
    "\n",
    "\n",
    "#repeat as above for the next equations.\n",
    "\n",
    "y = np.exp(-1/t)/t**2\n",
    "plt.plot(t, y, color='b', label=' y = e^(-1/t)/t^2')\n",
    "plt.legend(loc='upper left')\n",
    "\n",
    "\n",
    "y = np.exp(-1/t)\n",
    "plt.plot(t, y, color='g', label='y = e^ (-1/t) ')\n",
    "plt.legend(loc='upper left')\n",
    "\n",
    "#note, y = t^2 * (dp/dt) = p = e^ (-1/t)\n",
    "\n"
   ]
  },
  {
   "cell_type": "markdown",
   "metadata": {},
   "source": [
    "<span style='color:Blue'> Text answer  </span>\n",
    "\n",
    "By observing the above graph, it can be seen that the results are consistent with the adifferential equation. In addition, $p(t) $ solved analytically and $ t^2\\frac{dp}{dt} $ have the same curves, as expected.\n",
    "\n",
    "\n"
   ]
  },
  {
   "cell_type": "markdown",
   "metadata": {},
   "source": [
    "**c)** Write an equation for the average expression level during the interval $[t_1,t_2]$. You can express the result in integral form since the integral should not have an analytical solution.  "
   ]
  },
  {
   "cell_type": "markdown",
   "metadata": {},
   "source": [
    "<span style='color:Blue'> Text answer  </span>\n",
    "\n",
    "$ \\int \\frac{1}{p}dp $\n",
    "\n",
    "\n",
    "$ \\frac{1}{t2-t1} \\int_{t1}^{t2} p(t) \\,dt $\n",
    "\n",
    "$ \\rightarrow \\frac{1}{t2-t1} \\int_{t1}^{t2} e^\\frac{-1}{t} \\,dt $\n",
    "\n",
    "\n",
    "\n",
    "\n",
    "\n",
    "\n",
    "\n",
    "\n",
    "\n",
    "---"
   ]
  },
  {
   "cell_type": "markdown",
   "metadata": {},
   "source": [
    "**d)** Calculate the average gene expression level between times $t=0$ and $t=1$. Hint: Since you need to solve a definite integral without an analytical solution, you can approximate the integral numerically by using the Scipy function [scipy.integrate.quad](https://docs.scipy.org/doc/scipy/reference/reference/generated/scipy.integrate.quad.html#scipy.integrate.quad)"
   ]
  },
  {
   "cell_type": "markdown",
   "metadata": {},
   "source": [
    "<span style='color:Blue'> Code answer  </span>\n"
   ]
  },
  {
   "cell_type": "code",
   "execution_count": null,
   "metadata": {},
   "outputs": [],
   "source": [
    "def p(t):\n",
    "    return np.exp(-1/t)\n",
    "\n",
    "def x (integral,a,b):\n",
    "    return 1/(b-a) * integral \n",
    "\n",
    "integral, error = sp.integrate.quad(p,0,1)\n",
    "\n",
    "print(x(integral,0,1), error)\n"
   ]
  },
  {
   "cell_type": "markdown",
   "metadata": {},
   "source": [
    "# Q4. Linear algebra"
   ]
  },
  {
   "cell_type": "markdown",
   "metadata": {},
   "source": [
    "The evolution in time of three variables $x,y,z$; can be described through the system of linear differential equations:\n",
    "$$ \\left.\\begin{array}{rcl}\n",
    "\\dot x &=& 4x + 3z\\\\\n",
    "\\dot y &=& z\\\\\n",
    "\\dot z &=& -x\n",
    "\\end{array}\\right \\}\n",
    "$$"
   ]
  },
  {
   "cell_type": "markdown",
   "metadata": {},
   "source": [
    "**a)** Find the matrix $A$ that allows to write the system in the matrix form $\\dot{\\vec v} = A \\vec v$, where $\\vec v$ is a vector with components $\\vec v=(x,y,z)$"
   ]
  },
  {
   "cell_type": "markdown",
   "metadata": {},
   "source": [
    "<span style='color:Blue'> Text answer  </span>\n",
    "\n",
    "\n",
    "$ A = \\begin{pmatrix}\n",
    "4 & 0 & 3\\\\\n",
    "0 & 0 & 1\\\\\n",
    "-1 & 0 & 0\n",
    "\\end{pmatrix} $\n",
    "\n",
    "\n",
    "---"
   ]
  },
  {
   "cell_type": "markdown",
   "metadata": {},
   "source": [
    "**b)** Find the characteristic polynomial of $A$, and find analytically the eigenvalues of the matrix $A$"
   ]
  },
  {
   "cell_type": "markdown",
   "metadata": {},
   "source": [
    "<span style='color:Blue'> Text answer  </span>\n",
    "\n",
    "Characteristic polynomial = $ |A - \\lambda I | $\n",
    "\n",
    " $ I $ = Identity matrix: \n",
    " \n",
    "$  \\begin{pmatrix}\n",
    "1 & 0 & 0\\\\\n",
    "0 & 1 & 0\\\\\n",
    "0 & 0 & 1\n",
    "\\end{pmatrix} $\n",
    "\n",
    "\n",
    "$ |A - \\lambda I | = $\n",
    "\n",
    "$  = \\begin{pmatrix}\n",
    "4-\\lambda & 0 & 3\\\\\n",
    "0 & 0-\\lambda & 1\\\\\n",
    "-1 & 0 & 0-\\lambda\n",
    "\\end{pmatrix} $\n",
    "\n",
    "Formula = (aei + cdh + bfg -ceg - bdi -afh)\n",
    "\n",
    "$ aei =  (4-\\lambda) \\cdot (\\lambda)^2 = 4\\lambda^2 - \\lambda^3 $\n",
    "\n",
    "$ ceg = 3\\lambda - \\lambda -1 = 3\\lambda $\n",
    "\n",
    "$ edh = bfg = bdi = 0 $\n",
    "\n",
    "$ aei - ceg = (4-\\lambda) \\cdot (\\lambda)^2 = (4\\lambda^2 - \\lambda^3) -(3\\lambda) $ \n",
    "\n",
    "Characteristic polynomial = $ - \\lambda^3 + 4\\lambda^2 - 3\\lambda $\n",
    "\n",
    "Quadratic equation = $ \\frac{-b \\pm (b^2 -4ac)}{2a} $\n",
    "\n",
    "where a = -1, b = 4, c = -3 \n",
    "\n",
    "Eigenvalues ($ \\lambda) $  :  $ \\lambda1 = 0 ,   \\lambda2 = 1,    \\lambda3 = 3 $\n",
    "\n",
    "---"
   ]
  },
  {
   "cell_type": "markdown",
   "metadata": {},
   "source": [
    "**c)** Find analytically the eigenvectors $\\vec v=(v_1,v_2,v_3)$ corresponding to each eigenvalue. Hint: Try to fix the second component of each eigenvector $v_2=1$\n"
   ]
  },
  {
   "cell_type": "markdown",
   "metadata": {},
   "source": [
    "<span style='color:Blue'> Text answer  </span>\n",
    "\n",
    "$ \\rightarrow $ When Eigenvalue ($\\lambda$) = 0\n",
    "\n",
    "Let  y   $ (v2) $   = 1 \n",
    "\n",
    "Then,\n",
    "\n",
    "Equation 1: $4x + 3z$ = 0 \n",
    "\n",
    "Equation 2: $z = 0$ \n",
    "\n",
    "Substituting $z = 0$ back into equation 1 \n",
    "\n",
    "$ 4x = 0 $\n",
    "\n",
    "Therfore, $ x = 0 $\n",
    "\n",
    "Eigenvector When Eigenvalue ($\\lambda$ = 0):   $  \\begin{pmatrix}\n",
    "0 \\\\\n",
    "1 \\\\\n",
    "0 \n",
    "\\end{pmatrix} $\n",
    "\n",
    "\n",
    "$ \\rightarrow $ When Eigenvalue ($\\lambda$) = 1\n",
    "\n",
    "Let  y  $ (v2) $   = 1 \n",
    "\n",
    "Equation 1: $4x + 3z = x $\n",
    "\n",
    "From the question:  $ z = y = 1 $\n",
    "\n",
    "Substituting $z = 1$ back into equation 1 \n",
    "\n",
    "$ 4x + 3z = x $\n",
    "\n",
    "$ 3x + 3 = 0 $\n",
    "\n",
    "$ x = \\frac{-3}{3} = -1 $\n",
    "\n",
    "Eigenvector When Eigenvalue ($\\lambda$ = 1):   $  \\begin{pmatrix}\n",
    "-1 \\\\\n",
    "1 \\\\\n",
    "1 \n",
    "\\end{pmatrix} $\n",
    "\n",
    "\n",
    "$ \\rightarrow $ When Eigenvalue ($\\lambda$) = 3\n",
    "\n",
    "Let  y  $ (v2) $   = 1 \n",
    "\n",
    "Equation 1: $4x + 3z = 3x $ \n",
    "Equation 1: $ z = 3y $\n",
    "\n",
    "as $ y-1 $\n",
    "$ z = 3 $\n",
    "\n",
    "Substituting $z = 3$ back into equation 1 \n",
    "\n",
    "$ 4x + 3z = 3x $\n",
    "$ 4x + 9 = 3x $\n",
    "$ x = -9 $\n",
    "\n",
    "Eigenvector When Eigenvalue ($\\lambda$ = 3):   $  \\begin{pmatrix}\n",
    "-9 \\\\\n",
    "1 \\\\\n",
    "3 \n",
    "\\end{pmatrix} $\n",
    "\n",
    "\n",
    "\n",
    "\n",
    "\n",
    "\n",
    "\n",
    "\n",
    "\n",
    "---"
   ]
  },
  {
   "cell_type": "markdown",
   "metadata": {},
   "source": [
    "**d)** In general, matrices of several dimensions cannot be diagonalized analytically since they require to solve a polynomial equation with a high degree. In those cases the matrices need to be diagonalized numerically. Diagonalize numerically the matrix $A$ and discuss whether you obtain the same eigenvalues and eigenvectors than the analytical ones. Hint: You can use the Scipy function [scipy.linalg.eig()](https://docs.scipy.org/doc/scipy/reference/generated/scipy.linalg.eig.html). Note that the eigenvectors are the columns of the output matrix."
   ]
  },
  {
   "cell_type": "markdown",
   "metadata": {},
   "source": [
    "<span style='color:Blue'> Code answer  </span>\n"
   ]
  },
  {
   "cell_type": "code",
   "execution_count": null,
   "metadata": {},
   "outputs": [],
   "source": [
    "a = np.array([[4, 0, 3], [0, 0, 1.], [-1, 0, 0]])\n",
    "e, v= sp.linalg.eig(a)\n",
    "print(e, \"\\n\",v)\n"
   ]
  },
  {
   "cell_type": "markdown",
   "metadata": {},
   "source": [
    "<span style='color:Blue'> Text answer  </span>\n",
    "\n",
    "The numerical and analytical solutions are the same. \n",
    "The eigenvectors are the same but have been scaled. The eigenvalues are the same."
   ]
  },
  {
   "cell_type": "markdown",
   "metadata": {},
   "source": [
    "**e)** Dicuss the meaning of the eigenvector with eigenvalue $\\lambda = 0$. In order to do so, you can plot a trajectory resulting from solving numerically the system of ODEs with starting initial condition $x=0,y=1,z=0$. You can use the Sciypy ODE dynamical system solver [solver_ivp](https://docs.scipy.org/doc/scipy/reference/generated/scipy.integrate.solve_ivp.html#scipy.integrate.solve_ivp), part of the code is already written for you"
   ]
  },
  {
   "cell_type": "markdown",
   "metadata": {},
   "source": [
    "<span style='color:Blue'> Code answer  </span>"
   ]
  },
  {
   "cell_type": "code",
   "execution_count": null,
   "metadata": {},
   "outputs": [],
   "source": [
    "def rhs_ODEs(t,v): return [4*v[0]+3*v[2], v[2], -v[0]] ## ODEs definition\n",
    "\n",
    "\n",
    "#lambda = 0:\n",
    "init = [0, 1, 0] # state of the system at t=0\n",
    "trajectory = sp.integrate.solve_ivp(rhs_ODEs, [0,10], init) ## Calling the solver\n",
    "t, x, y, z = trajectory.t,trajectory.y[0], trajectory.y[1], trajectory.y[2] ## t,x,y,z is the resulting trajectory\n",
    "#plots for lambda = 0\n",
    "ode_plot = plt.plot(t,x, 'g-',label='t^2')\n",
    "ode_plot = plt.plot(t,y, 'b-',label='exp(-1/t)/t^2')\n",
    "ode_plot = plt.plot(t,z, 'r-',label='(t^2) * (dp/dt)')\n",
    "#graph legend, title, and axis labels.\n",
    "ode_plot = plt.legend()\n",
    "ode_plot = plt.title('System of differential equations when λ = 0')\n",
    "ode_plot = plt.xlabel('Time(t)')\n",
    "ode_plot = plt.ylabel('Trajectory')\n",
    "plt.show(ode_plot)\n",
    "\n",
    "\n",
    "\n",
    "#lambda = 1:\n",
    "init = [-1, 1, 1] # state of the system at t=0\n",
    "trajectory = sp.integrate.solve_ivp(rhs_ODEs, [0,10], init) ## Calling the solver\n",
    "t, x1, y1, z1 = trajectory.t,trajectory.y[0], trajectory.y[1], trajectory.y[2] ## t,x,y,z is the resulting trajectory\n",
    "#plots for lambda = 1\n",
    "ode_plot = plt.plot(t,x1, 'g-',label='t^2')\n",
    "ode_plot = plt.plot(t,y1, 'b-',label='exp(-1/t)/t^2')\n",
    "ode_plot = plt.plot(t,z1, 'r-',label='(t^2) * (dp/dt)')\n",
    "#graph legend, title, and axis labels.\n",
    "ode_plot = plt.legend()\n",
    "ode_plot = plt.title('System of differential equations when λ = 1')\n",
    "ode_plot = plt.xlabel('Time(t)')\n",
    "ode_plot = plt.ylabel('Trajectory')\n",
    "plt.show(ode_plot)\n",
    "\n",
    "\n",
    "\n",
    "#lambda = 3:\n",
    "init = [-9, 1, 3] # state of the system at t=0\n",
    "trajectory = sp.integrate.solve_ivp(rhs_ODEs, [0,10], init) ## Calling the solver\n",
    "t, x2, y2, z2 = trajectory.t,trajectory.y[0], trajectory.y[1], trajectory.y[2] ## t,x,y,z is the resulting trajectory\n",
    "#plots for lambda = 1\n",
    "ode_plot = plt.plot(t,x2, 'g-',label='t^2')\n",
    "ode_plot = plt.plot(t,y2, 'b-',label='exp(-1/t)/t^2')\n",
    "ode_plot = plt.plot(t,z2, 'r-',label='(t^2) * (dp/dt)')\n",
    "#graph legend, title, and axis labels.\n",
    "ode_plot = plt.legend()\n",
    "ode_plot = plt.title('System of differential equations when λ = 3')\n",
    "ode_plot = plt.xlabel('Time(t)')\n",
    "ode_plot = plt.ylabel('Trajectory')\n",
    "plt.show(ode_plot)\n",
    "\n",
    "\n",
    "\n",
    "\n"
   ]
  },
  {
   "cell_type": "markdown",
   "metadata": {},
   "source": [
    "<span style='color:Blue'> Text answer  </span>\n",
    "\n",
    "\n",
    "At λ = 0, the trajectories at do not change. Hence,  all points on the span of the associated eigenvector is the stable equilibrium point. \n",
    "at λ = 1. the trajectories diverge at approximately t = 5\n",
    "at λ = 3, the trajectories diverge even later at t approximately equalling 8.5."
   ]
  },
  {
   "cell_type": "code",
   "execution_count": null,
   "metadata": {},
   "outputs": [],
   "source": []
  }
 ],
 "metadata": {
  "kernelspec": {
   "display_name": "Python 3",
   "language": "python",
   "name": "python3"
  },
  "language_info": {
   "codemirror_mode": {
    "name": "ipython",
    "version": 3
   },
   "file_extension": ".py",
   "mimetype": "text/x-python",
   "name": "python",
   "nbconvert_exporter": "python",
   "pygments_lexer": "ipython3",
   "version": "3.8.8"
  }
 },
 "nbformat": 4,
 "nbformat_minor": 4
}
